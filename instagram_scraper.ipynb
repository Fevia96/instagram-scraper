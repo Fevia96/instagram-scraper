{
  "nbformat": 4,
  "nbformat_minor": 0,
  "metadata": {
    "colab": {
      "provenance": [],
      "authorship_tag": "ABX9TyN8R5ksIsnHB/4nYBu5piit",
      "include_colab_link": true
    },
    "kernelspec": {
      "name": "python3",
      "display_name": "Python 3"
    },
    "language_info": {
      "name": "python"
    }
  },
  "cells": [
    {
      "cell_type": "markdown",
      "metadata": {
        "id": "view-in-github",
        "colab_type": "text"
      },
      "source": [
        "<a href=\"https://colab.research.google.com/github/Fevia96/instagram-scraper/blob/main/instagram_scraper.ipynb\" target=\"_parent\"><img src=\"https://colab.research.google.com/assets/colab-badge.svg\" alt=\"Open In Colab\"/></a>"
      ]
    },
    {
      "cell_type": "code",
      "execution_count": 5,
      "metadata": {
        "colab": {
          "base_uri": "https://localhost:8080/"
        },
        "id": "_ZCdAcKdMUIN",
        "outputId": "62ae0037-ec1b-4a19-9ff5-6bbb55bb811d"
      },
      "outputs": [
        {
          "output_type": "execute_result",
          "data": {
            "text/plain": [
              "True"
            ]
          },
          "metadata": {},
          "execution_count": 5
        }
      ],
      "source": [
        "from instagrapi import Client\n",
        "from instagrapi.types import StoryMention, StoryMedia, StoryLink, StoryHashtag\n",
        "\n",
        "cl = Client()\n",
        "cl.load_settings('dump_settings.json')\n",
        "cl.login_by_sessionid(\"60187013644%3AVTtyrqRNFcVW1Z%3A9%3AAYeMryZWnzIxgJTq7hbWnYDNpLyTGHHBJw-iJy872g\")\n",
        "\n",
        "\n",
        "#cl.dump_settings('dump_settings.json')"
      ]
    },
    {
      "cell_type": "code",
      "source": [
        "#@title User\n",
        "\n",
        "import dash\n",
        "from dash import html, dcc, dash_table\n",
        "from dash.dash_table.Format import Group\n",
        "import base64\n",
        "import urllib.request\n",
        "from PIL import Image\n",
        "from IPython.display import display\n",
        "\n",
        "ACCOUNT_USERNAME = \"smiech_smiech\" # @param {type:\"string\"}\n",
        "\n",
        "user_id = cl.user_id_from_username(ACCOUNT_USERNAME)\n",
        "user_info = cl.user_info(user_id)\n",
        "\n",
        "# Przygotowanie danych do tabeli\n",
        "user_info_dict = user_info.dict()\n",
        "user_info_table_data = []\n",
        "\n",
        "# Dodaj pozostałe atrybuty do tabeli\n",
        "for key, value in user_info_dict.items():\n",
        "    user_info_table_data.append({\"Atrybut\": key, \"Wartość\": value})\n",
        "\n",
        "# Przygotowanie obrazków\n",
        "images = []\n",
        "image_num = 0\n",
        "\n",
        "for key, value in user_info_dict.items():\n",
        "    if key == 'profile_pic_url' or key == 'profile_pic_url_hd':\n",
        "        # Pobranie obrazka\n",
        "        image_url = value\n",
        "        image_name = f\"assets/image_{image_num}.jpg\"  # Zmieniamy ścieżkę\n",
        "        urllib.request.urlretrieve(image_url, image_name)\n",
        "\n",
        "        # Użycie Pillow do otwarcia obrazka\n",
        "        pil_img = Image.open(image_name)\n",
        "\n",
        "        # Konwersja obrazka do base64\n",
        "        with open(image_name, \"rb\") as image_file:\n",
        "            img_data = base64.b64encode(image_file.read())\n",
        "            img_data = img_data.decode()\n",
        "            img_data = f\"data:image/jpg;base64, {img_data}\"\n",
        "\n",
        "        # Tworzenie komponentu obrazka\n",
        "        img = html.Img(src=img_data, alt=\"my image\", width=\"400\")\n",
        "        images.append(img)\n",
        "\n",
        "        # Zwiększenie numeru obrazka\n",
        "        image_num += 1\n",
        "\n",
        "# Utwórz aplikację Dash\n",
        "app = dash.Dash(__name__)\n",
        "\n",
        "# Utwórz DataTable z zaznaczalnymi komórkami i eksportem do XLSX\n",
        "table = dash_table.DataTable(\n",
        "    id='table',\n",
        "    columns=[{'id': col, 'name': col, 'editable': True} for col in user_info_table_data[0].keys()],\n",
        "    data=user_info_table_data,\n",
        "    css=[{'selector': 'table', 'rule': 'table-layout: fixed'}],\n",
        "    style_header={\n",
        "        'border': '1px solid black',\n",
        "        'backgroundColor': 'rgb(22, 26, 29)',\n",
        "        'color': 'white',\n",
        "        'font-weight': 'bold',\n",
        "        'text-align': 'center',\n",
        "    },\n",
        "    style_cell={\n",
        "        'maxWidth': '100px',  # Ustaw maksymalną szerokość komórki na 100px\n",
        "        'textOverflow': 'ellipsis',\n",
        "        'overflow': 'hidden',\n",
        "        'textAlign': 'left',\n",
        "        'backgroundColor': 'rgb(22, 26, 29)',\n",
        "        'color': 'white'\n",
        "    },\n",
        "    export_format='xlsx',\n",
        "    export_headers='display',\n",
        ")\n",
        "\n",
        "# Dodaj przycisk eksportu\n",
        "export_button = dcc.Download(id=\"export-data-xlsx\")\n",
        "\n",
        "# Układ strony\n",
        "app.layout = html.Div(\n",
        "    style={'backgroundColor': '#111111', 'color': 'white', 'maxWidth': '1200px', 'margin': 'auto'},  # Ograniczenie szerokości i centrowanie\n",
        "    children=[\n",
        "        html.H1('Informacje o użytkowniku', style={'color': 'white'}),\n",
        "        table,\n",
        "        *images,\n",
        "        export_button,\n",
        "    ]\n",
        ")\n",
        "\n",
        "# Uruchom aplikację Dash\n",
        "if __name__ == '__main__':\n",
        "    app.run_server(debug=True)\n",
        "\n"
      ],
      "metadata": {
        "colab": {
          "base_uri": "https://localhost:8080/",
          "height": 671
        },
        "id": "S2v8AYdkM3t_",
        "outputId": "52121d53-59dc-4f0a-ed25-2ecadb0d1d6f"
      },
      "execution_count": 37,
      "outputs": [
        {
          "output_type": "display_data",
          "data": {
            "text/plain": [
              "<IPython.core.display.Javascript object>"
            ],
            "application/javascript": [
              "(async (port, path, width, height, cache, element) => {\n",
              "    if (!google.colab.kernel.accessAllowed && !cache) {\n",
              "      return;\n",
              "    }\n",
              "    element.appendChild(document.createTextNode(''));\n",
              "    const url = await google.colab.kernel.proxyPort(port, {cache});\n",
              "    const iframe = document.createElement('iframe');\n",
              "    iframe.src = new URL(path, url).toString();\n",
              "    iframe.height = height;\n",
              "    iframe.width = width;\n",
              "    iframe.style.border = 0;\n",
              "    iframe.allow = [\n",
              "        'accelerometer',\n",
              "        'autoplay',\n",
              "        'camera',\n",
              "        'clipboard-read',\n",
              "        'clipboard-write',\n",
              "        'gyroscope',\n",
              "        'magnetometer',\n",
              "        'microphone',\n",
              "        'serial',\n",
              "        'usb',\n",
              "        'xr-spatial-tracking',\n",
              "    ].join('; ');\n",
              "    element.appendChild(iframe);\n",
              "  })(8050, \"/\", \"100%\", 650, false, window.element)"
            ]
          },
          "metadata": {}
        }
      ]
    }
  ]
}